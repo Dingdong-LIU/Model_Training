{
 "cells": [
  {
   "cell_type": "code",
   "execution_count": 1,
   "metadata": {},
   "outputs": [],
   "source": [
    "%load_ext autoreload\n",
    "%autoreload 2"
   ]
  },
  {
   "cell_type": "code",
   "execution_count": 2,
   "metadata": {},
   "outputs": [],
   "source": [
    "from transformers import AutoTokenizer, AutoModelForSeq2SeqLM, AutoConfig\n",
    "import pandas as pd\n",
    "import os\n",
    "import sys\n",
    "sys.path.insert(1, 'scripts')\n",
    "import torch"
   ]
  },
  {
   "cell_type": "markdown",
   "metadata": {},
   "source": [
    "## Save prediction outputs"
   ]
  },
  {
   "cell_type": "code",
   "execution_count": 2,
   "metadata": {},
   "outputs": [],
   "source": [
    "## load model\n",
    "model_checkpoint_path = {\n",
    "    'claims': 'model/for_claims/checkpoint/train-300-t1',\n",
    "    'premises': 'model/for_premises/checkpoint/train-300-p1'\n",
    "}\n",
    "scenario = ['auto-driving', 'bitcoin-invest']\n"
   ]
  },
  {
   "cell_type": "code",
   "execution_count": 3,
   "metadata": {},
   "outputs": [
    {
     "name": "stderr",
     "output_type": "stream",
     "text": [
      "/home/dingdong/anaconda3/envs/transformers/lib/python3.9/site-packages/torch/_tensor.py:575: UserWarning: floor_divide is deprecated, and will be removed in a future version of pytorch. It currently rounds toward 0 (like the 'trunc' function NOT 'floor'). This results in incorrect rounding for negative values.\n",
      "To keep the current behavior, use torch.div(a, b, rounding_mode='trunc'), or for actual floor division, use torch.div(a, b, rounding_mode='floor'). (Triggered internally at  /pytorch/aten/src/ATen/native/BinaryOps.cpp:467.)\n",
      "  return torch.floor_divide(self, other)\n",
      "2022-08-27 14:27:21.873102: I tensorflow/stream_executor/platform/default/dso_loader.cc:53] Successfully opened dynamic library libcudart.so.11.0\n"
     ]
    }
   ],
   "source": [
    "for task, model_path in model_checkpoint_path.items():\n",
    "    config = AutoConfig.from_pretrained(model_path)\n",
    "    tokenizer = AutoTokenizer.from_pretrained(model_path)\n",
    "    model = AutoModelForSeq2SeqLM.from_pretrained(model_path)\n",
    "    for sc in scenario:\n",
    "        data = pd.read_csv(os.path.join('data', task, f\"evaluation-{sc}.csv\"))\n",
    "        inputs = tokenizer(data.text.to_list(), max_length=300,\n",
    "                           return_tensors='pt', padding=True, truncation=True)\n",
    "        summary_ids = model.generate(inputs[\"input_ids\"])\n",
    "        output = tokenizer.batch_decode(summary_ids, skip_special_tokens=True)\n",
    "        df = pd.DataFrame({\n",
    "            'text': data.text.tolist(),\n",
    "            'ground-truth': data[task[:-1]].tolist(),\n",
    "            'prediction': output\n",
    "        })\n",
    "        df.to_csv(os.path.join('data/prediction_results', f'prediction-results-{sc}-{task}.csv'), index=False)\n",
    "    del model"
   ]
  },
  {
   "cell_type": "code",
   "execution_count": 3,
   "metadata": {},
   "outputs": [],
   "source": [
    "# from load_data import find_xml_files, load_objects, load_data\n",
    "# data = load_data()"
   ]
  },
  {
   "cell_type": "markdown",
   "metadata": {},
   "source": [
    "## Fill data json file"
   ]
  },
  {
   "cell_type": "code",
   "execution_count": 46,
   "metadata": {},
   "outputs": [],
   "source": [
    "import json\n",
    "from evaluate_data import locate_post, create_objects, insert_objects, pre_process_prediction\n",
    "from tqdm.auto import tqdm\n"
   ]
  },
  {
   "cell_type": "code",
   "execution_count": 57,
   "metadata": {},
   "outputs": [],
   "source": [
    "web_json_path = {\n",
    "    'auto-driving' : 'datasets/auto-driving/Would-you-get-into-a-self-driving-car_0820_1.json',\n",
    "    'bitcoin-invest': 'datasets/bitcoin-invest/Should-I-invest-in-Bitcoin_0815_1.json'\n",
    "}\n",
    "task = ['claim', 'premise']\n"
   ]
  },
  {
   "cell_type": "code",
   "execution_count": 64,
   "metadata": {},
   "outputs": [
    {
     "name": "stderr",
     "output_type": "stream",
     "text": [
      "100%|██████████| 66/66 [00:25<00:00,  2.61it/s]\n",
      "100%|██████████| 60/60 [00:21<00:00,  2.85it/s]\n",
      "100%|██████████| 45/45 [01:15<00:00,  1.68s/it]\n",
      "100%|██████████| 49/49 [01:29<00:00,  1.83s/it]\n"
     ]
    }
   ],
   "source": [
    "for sc, web_json in web_json_path.items():\n",
    "    with open(web_json) as f:\n",
    "        data_file = json.load(f)\n",
    "    for t in task:\n",
    "        prediction_result_path = f'data/prediction_results/prediction-results-{sc}-{t}s.csv'\n",
    "        df = pd.read_csv(prediction_result_path)\n",
    "\n",
    "        target_post = 0\n",
    "        for i, txt in tqdm(enumerate(df.text), total=df.shape[0]):\n",
    "            try:\n",
    "                target_post = locate_post(data_file['answers'], txt, start_index=target_post)\n",
    "                if target_post == -1:\n",
    "                    raise ValueError(f\"No match found in {i}th post\")\n",
    "            except ValueError as err:\n",
    "                print(err)\n",
    "            prediction = df.loc[i,'prediction']\n",
    "            fill_objects = create_objects(pre_process_prediction(prediction), name=t)\n",
    "            data_file['answers'][target_post][t] = fill_objects\n",
    "    save_path = os.path.join(*web_json.split('/')[:-1], f\"{sc}.json\")\n",
    "    with open(save_path, 'w') as f:\n",
    "        json.dump(data_file, fp=f, indent=4, ensure_ascii=False)\n"
   ]
  },
  {
   "cell_type": "code",
   "execution_count": 65,
   "metadata": {},
   "outputs": [
    {
     "data": {
      "text/plain": [
       "'datasets/bitcoin-invest/bitcoin-invest.json'"
      ]
     },
     "execution_count": 65,
     "metadata": {},
     "output_type": "execute_result"
    }
   ],
   "source": [
    "save_path = os.path.join(*web_json.split('/')[:-1], f\"{sc}.json\")\n",
    "save_path"
   ]
  },
  {
   "cell_type": "code",
   "execution_count": null,
   "metadata": {},
   "outputs": [],
   "source": []
  }
 ],
 "metadata": {
  "kernelspec": {
   "display_name": "Python 3.9.5 ('venv')",
   "language": "python",
   "name": "python3"
  },
  "language_info": {
   "codemirror_mode": {
    "name": "ipython",
    "version": 3
   },
   "file_extension": ".py",
   "mimetype": "text/x-python",
   "name": "python",
   "nbconvert_exporter": "python",
   "pygments_lexer": "ipython3",
   "version": "3.9.5"
  },
  "orig_nbformat": 4,
  "vscode": {
   "interpreter": {
    "hash": "640cace4827df8bb8e1edb3566e4e979a7918609c95fe3eaf671877de41a29fe"
   }
  }
 },
 "nbformat": 4,
 "nbformat_minor": 2
}
