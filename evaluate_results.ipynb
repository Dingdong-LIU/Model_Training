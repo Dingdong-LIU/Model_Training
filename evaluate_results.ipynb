{
 "cells": [
  {
   "cell_type": "code",
   "execution_count": 5,
   "metadata": {},
   "outputs": [],
   "source": [
    "from transformers import AutoTokenizer, AutoModelForSeq2SeqLM, AutoConfig\n",
    "import sys\n",
    "sys.path.insert(1, 'scripts')"
   ]
  },
  {
   "cell_type": "code",
   "execution_count": 3,
   "metadata": {},
   "outputs": [],
   "source": [
    "config = AutoConfig.from_pretrained('model/for_claims/checkpoint/train-3600')\n",
    "tokenizer = AutoTokenizer.from_pretrained('model/for_claims/checkpoint/train-3600')\n",
    "model = AutoModelForSeq2SeqLM.from_pretrained('model/for_claims/checkpoint/train-3600')"
   ]
  },
  {
   "cell_type": "code",
   "execution_count": 6,
   "metadata": {},
   "outputs": [],
   "source": [
    "from load_data import find_xml_files, load_objects, load_data"
   ]
  },
  {
   "cell_type": "code",
   "execution_count": 7,
   "metadata": {},
   "outputs": [
    {
     "name": "stdout",
     "output_type": "stream",
     "text": [
      "Find 78 XML files\n",
      "Too long in reply (lenth 119) of file:\n",
      "datasets/change-my-view-modes-master/v1.0/positive/95.xml\n",
      "Too long in reply (lenth 123) of file:\n",
      "datasets/change-my-view-modes-master/v1.0/positive/83.xml\n",
      "Too long in reply (lenth 122) of file:\n",
      "datasets/change-my-view-modes-master/v1.0/positive/99.xml\n",
      "Too long in reply (lenth 101) of file:\n",
      "datasets/change-my-view-modes-master/v1.0/positive/76.xml\n",
      "Too long in OP (lenth 143) of file:\n",
      "datasets/change-my-view-modes-master/v1.0/positive/79.xml\n",
      "Too long in reply (lenth 109) of file:\n",
      "datasets/change-my-view-modes-master/v1.0/positive/82.xml\n",
      "Too long in OP (lenth 143) of file:\n",
      "datasets/change-my-view-modes-master/v1.0/positive/78.xml\n",
      "Too long in reply (lenth 160) of file:\n",
      "datasets/change-my-view-modes-master/v1.0/negative/77.xml\n",
      "Too long in OP (lenth 162) of file:\n",
      "datasets/change-my-view-modes-master/v1.0/negative/90.xml\n",
      "Too long in reply (lenth 106) of file:\n",
      "datasets/change-my-view-modes-master/v1.0/negative/78.xml\n",
      "Too long in OP (lenth 162) of file:\n",
      "datasets/change-my-view-modes-master/v1.0/negative/87.xml\n",
      "Too long in OP (lenth 162) of file:\n",
      "datasets/change-my-view-modes-master/v1.0/negative/91.xml\n",
      "Too long in OP (lenth 162) of file:\n",
      "datasets/change-my-view-modes-master/v1.0/negative/88.xml\n"
     ]
    }
   ],
   "source": [
    "data = load_data()"
   ]
  },
  {
   "cell_type": "code",
   "execution_count": 17,
   "metadata": {},
   "outputs": [
    {
     "data": {
      "text/plain": [
       "('In high school, I thought I was \"good at math\" as I\\'m the son of a math teacher and electrical engineer.\\nIn college, I learned that math was not something you\\'re \"good at\" but something you have to put hard work into and is almost the sole determiner in the level of skill you obtain.\\n\\nSo then isn\\'t almost any compliment almost to be expected? I\\'ve spent a lot of time with similar problems -- how could I not know all the details and little tricks of these problems?\\n\\nI feel a compliment recognizes something given: I feel everyone is passionate about something, whether it be math or psychology or medicine (I don\\'t hear \"you\\'re so good at biology\" but I think I should).',\n",
       " 'I thought I was \"good at math\" as I\\'m the son of a math teacher and electrical engineer\\nmath was not something you\\'re \"good at\" but something you have to put hard work into and is almost the sole determiner in the level of skill you obtain\\nSo then isn\\'t almost any compliment almost to be expected?\\nI feel a compliment recognizes something given\\nI feel everyone is passionate about something\\nI think I should')"
      ]
     },
     "execution_count": 17,
     "metadata": {},
     "output_type": "execute_result"
    }
   ],
   "source": [
    "data[0]"
   ]
  },
  {
   "cell_type": "code",
   "execution_count": 20,
   "metadata": {},
   "outputs": [
    {
     "data": {
      "text/plain": [
       "['So then isn\\'t almost any compliment almost to be expected?\\nI feel a compliment recognizes something given:\\nI don\\'t hear \"you\\'re so good at biology\" but I think I should).']"
      ]
     },
     "execution_count": 20,
     "metadata": {},
     "output_type": "execute_result"
    }
   ],
   "source": [
    "inputs = tokenizer([data[0][0]], max_length=300, return_tensors='pt')\n",
    "summary_ids = model.generate(inputs[\"input_ids\"])\n",
    "tokenizer.batch_decode(summary_ids, skip_special_tokens=True)"
   ]
  },
  {
   "cell_type": "code",
   "execution_count": 11,
   "metadata": {},
   "outputs": [
    {
     "data": {
      "text/plain": [
       "tensor([[    2,     0,  2847,   172,   965,    75,   818,   143, 19389,   818,\n",
       "             7,    28,   421,   116, 50118,   100,   619,    10, 19389, 15637,\n",
       "           402,   576,    35, 50118,   100,   218,    75,  1798,    22,  6968,\n",
       "           214,    98,   205,    23, 18004,   113,    53,    38,   206,    38,\n",
       "           197,   322,     2]])"
      ]
     },
     "execution_count": 11,
     "metadata": {},
     "output_type": "execute_result"
    }
   ],
   "source": [
    "summary_ids"
   ]
  },
  {
   "cell_type": "code",
   "execution_count": 19,
   "metadata": {},
   "outputs": [
    {
     "data": {
      "text/plain": [
       "124"
      ]
     },
     "execution_count": 19,
     "metadata": {},
     "output_type": "execute_result"
    }
   ],
   "source": [
    "len(data[0][0].split())"
   ]
  },
  {
   "cell_type": "code",
   "execution_count": null,
   "metadata": {},
   "outputs": [],
   "source": []
  }
 ],
 "metadata": {
  "kernelspec": {
   "display_name": "Python 3.9.5 ('transformers')",
   "language": "python",
   "name": "python3"
  },
  "language_info": {
   "codemirror_mode": {
    "name": "ipython",
    "version": 3
   },
   "file_extension": ".py",
   "mimetype": "text/x-python",
   "name": "python",
   "nbconvert_exporter": "python",
   "pygments_lexer": "ipython3",
   "version": "3.9.5"
  },
  "orig_nbformat": 4,
  "vscode": {
   "interpreter": {
    "hash": "8220953b88f764fcdbd0075b4138a91f664c10d8705b38466fc99d87a409cf1b"
   }
  }
 },
 "nbformat": 4,
 "nbformat_minor": 2
}
