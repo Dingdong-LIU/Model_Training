{
 "cells": [
  {
   "cell_type": "code",
   "execution_count": 1,
   "metadata": {},
   "outputs": [],
   "source": [
    "from transformers import AutoTokenizer, AutoModelForSeq2SeqLM, AutoConfig\n",
    "import pandas as pd\n",
    "import os\n",
    "import sys\n",
    "sys.path.insert(1, 'scripts')\n",
    "import torch"
   ]
  },
  {
   "cell_type": "markdown",
   "metadata": {},
   "source": [
    "## Save prediction outputs"
   ]
  },
  {
   "cell_type": "code",
   "execution_count": 2,
   "metadata": {},
   "outputs": [],
   "source": [
    "## load model\n",
    "model_checkpoint_path = {\n",
    "    'claims': 'model/for_claims/checkpoint/train-300-t1',\n",
    "    'premises': 'model/for_premises/checkpoint/train-300-p1'\n",
    "}\n",
    "scenario = ['auto-driving', 'bitcoin-invest']\n"
   ]
  },
  {
   "cell_type": "code",
   "execution_count": 3,
   "metadata": {},
   "outputs": [
    {
     "name": "stderr",
     "output_type": "stream",
     "text": [
      "/home/dingdong/anaconda3/envs/transformers/lib/python3.9/site-packages/torch/_tensor.py:575: UserWarning: floor_divide is deprecated, and will be removed in a future version of pytorch. It currently rounds toward 0 (like the 'trunc' function NOT 'floor'). This results in incorrect rounding for negative values.\n",
      "To keep the current behavior, use torch.div(a, b, rounding_mode='trunc'), or for actual floor division, use torch.div(a, b, rounding_mode='floor'). (Triggered internally at  /pytorch/aten/src/ATen/native/BinaryOps.cpp:467.)\n",
      "  return torch.floor_divide(self, other)\n",
      "2022-08-27 14:27:21.873102: I tensorflow/stream_executor/platform/default/dso_loader.cc:53] Successfully opened dynamic library libcudart.so.11.0\n"
     ]
    }
   ],
   "source": [
    "for task, model_path in model_checkpoint_path.items():\n",
    "    config = AutoConfig.from_pretrained(model_path)\n",
    "    tokenizer = AutoTokenizer.from_pretrained(model_path)\n",
    "    model = AutoModelForSeq2SeqLM.from_pretrained(model_path)\n",
    "    for sc in scenario:\n",
    "        data = pd.read_csv(os.path.join('data', task, f\"evaluation-{sc}.csv\"))\n",
    "        inputs = tokenizer(data.text.to_list(), max_length=300,\n",
    "                           return_tensors='pt', padding=True, truncation=True)\n",
    "        summary_ids = model.generate(inputs[\"input_ids\"])\n",
    "        output = tokenizer.batch_decode(summary_ids, skip_special_tokens=True)\n",
    "        df = pd.DataFrame({\n",
    "            'text': data.text.tolist(),\n",
    "            'ground-truth': data[task[:-1]].tolist(),\n",
    "            'prediction': output\n",
    "        })\n",
    "        df.to_csv(os.path.join('data/prediction_results', f'prediction-results-{sc}-{task}.csv'), index=False)\n",
    "    del model"
   ]
  },
  {
   "cell_type": "code",
   "execution_count": 3,
   "metadata": {},
   "outputs": [],
   "source": [
    "# from load_data import find_xml_files, load_objects, load_data\n",
    "# data = load_data()"
   ]
  },
  {
   "cell_type": "code",
   "execution_count": null,
   "metadata": {},
   "outputs": [],
   "source": []
  }
 ],
 "metadata": {
  "kernelspec": {
   "display_name": "Python 3.9.5 ('transformers')",
   "language": "python",
   "name": "python3"
  },
  "language_info": {
   "codemirror_mode": {
    "name": "ipython",
    "version": 3
   },
   "file_extension": ".py",
   "mimetype": "text/x-python",
   "name": "python",
   "nbconvert_exporter": "python",
   "pygments_lexer": "ipython3",
   "version": "3.9.5"
  },
  "orig_nbformat": 4,
  "vscode": {
   "interpreter": {
    "hash": "8220953b88f764fcdbd0075b4138a91f664c10d8705b38466fc99d87a409cf1b"
   }
  }
 },
 "nbformat": 4,
 "nbformat_minor": 2
}
