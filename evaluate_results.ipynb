{
 "cells": [
  {
   "cell_type": "code",
   "execution_count": 1,
   "metadata": {},
   "outputs": [],
   "source": [
    "from transformers import AutoTokenizer, AutoModelForSeq2SeqLM, AutoConfig\n",
    "import pandas as pd\n",
    "import sys\n",
    "sys.path.insert(1, 'scripts')"
   ]
  },
  {
   "cell_type": "code",
   "execution_count": 2,
   "metadata": {},
   "outputs": [],
   "source": [
    "config = AutoConfig.from_pretrained('model/for_claims/checkpoint/train-300-t1')\n",
    "tokenizer = AutoTokenizer.from_pretrained(\n",
    "    'model/for_claims/checkpoint/train-300-t1')\n",
    "model = AutoModelForSeq2SeqLM.from_pretrained(\n",
    "    'model/for_claims/checkpoint/train-300-t1')\n"
   ]
  },
  {
   "cell_type": "code",
   "execution_count": 3,
   "metadata": {},
   "outputs": [],
   "source": [
    "# from load_data import find_xml_files, load_objects, load_data\n",
    "# data = load_data()"
   ]
  },
  {
   "cell_type": "code",
   "execution_count": 4,
   "metadata": {},
   "outputs": [],
   "source": [
    "data = pd.read_csv(\n",
    "    'data/claims/evaluation-auto-driving.csv')\n"
   ]
  },
  {
   "cell_type": "code",
   "execution_count": 5,
   "metadata": {},
   "outputs": [
    {
     "data": {
      "text/plain": [
       "(\"Its a no brainer for the following reasons:\\nI can make use of the time I spend driving. I spend almost 2 hrs a day driving back and forth from work, or just picking up people. So i can basically send my car to airport to pick up friends or family, the car can drop me to work and go back home or pickup kids.I am a bad driver, been into a few fender benders and my insurance is expected to get sky-high. No driving means I don't have to worry about insurance, even license for that instance. I cannot get a ticket or DUI problem. I don't have to worry about falling asleep on the wheel when I am driving late in the night or making a road trip. I can do what I want. Finding parking is a pain in the cities. Especially when I am running late for the meetings, I spend at least 20 min finding parking spots and then walking all the way back to the office. At the least, I can take calls, attend meetings or even watch movies while driving.\\nInitially the investment might be big, but the ROI is pretty awesome and worth it.\\nOnly problem will exist when I am running late to work and there is a traffic problem, however if everyone is driving a robotics car, i hope there would be no accidents to cause delays.\",\n",
       " 'Its a no brainer\\nInitially the investment might be big, but the ROI is pretty awesome and worth it.')"
      ]
     },
     "execution_count": 5,
     "metadata": {},
     "output_type": "execute_result"
    }
   ],
   "source": [
    "data.text[1], data.claim[1]"
   ]
  },
  {
   "cell_type": "code",
   "execution_count": 10,
   "metadata": {},
   "outputs": [
    {
     "data": {
      "text/plain": [
       "[\"Its a no brainer for the following reasons\\nI don't have to worry about insurance, even license for that instance.\\nI cannot get a ticket or DUI problem.\\nOnly problem will exist when I am running late to work and there is a traffic problem\\nI hope there would be no accidents to cause delays.\"]"
      ]
     },
     "execution_count": 10,
     "metadata": {},
     "output_type": "execute_result"
    }
   ],
   "source": [
    "inputs = tokenizer(data.text.to_list()[1], max_length=300, return_tensors='pt', padding=True, truncation=True)\n",
    "summary_ids = model.generate(inputs[\"input_ids\"])\n",
    "# output = tokenizer.batch_decode(summary_ids, skip_special_tokens=True)\n",
    "tokenizer.batch_decode(summary_ids, skip_special_tokens=True)\n"
   ]
  },
  {
   "cell_type": "code",
   "execution_count": 8,
   "metadata": {},
   "outputs": [],
   "source": [
    "new_df = pd.DataFrame({\n",
    "    'text' : data.text.tolist(),\n",
    "    'ground-truth' : data.claim.tolist(),\n",
    "    'prediction' : output\n",
    "})\n",
    "\n",
    "# for i,j,k in zip(data.text.tolist(), data.claim.tolist(), output):\n",
    "#     print(i)\n",
    "#     print()\n",
    "#     print(j)\n",
    "#     print()\n",
    "#     print(k)\n",
    "    "
   ]
  },
  {
   "cell_type": "code",
   "execution_count": 9,
   "metadata": {},
   "outputs": [
    {
     "data": {
      "text/html": [
       "<div>\n",
       "<style scoped>\n",
       "    .dataframe tbody tr th:only-of-type {\n",
       "        vertical-align: middle;\n",
       "    }\n",
       "\n",
       "    .dataframe tbody tr th {\n",
       "        vertical-align: top;\n",
       "    }\n",
       "\n",
       "    .dataframe thead th {\n",
       "        text-align: right;\n",
       "    }\n",
       "</style>\n",
       "<table border=\"1\" class=\"dataframe\">\n",
       "  <thead>\n",
       "    <tr style=\"text-align: right;\">\n",
       "      <th></th>\n",
       "      <th>text</th>\n",
       "      <th>ground-truth</th>\n",
       "      <th>prediction</th>\n",
       "    </tr>\n",
       "  </thead>\n",
       "  <tbody>\n",
       "    <tr>\n",
       "      <th>0</th>\n",
       "      <td>Yes, you would.\\nWait, how dare I answer for you?  Sure, I can answer for myself, I have been in them many times, from several different teams.  But I've also watched other people in them, and seen the results of research at Stanford testing how people react to them.\\nAnd the research shows people are amazingly trusting of them.   One might even say disturbingly trusting, since all the vehicles today are prototypes which are not rated safe enough to be sold to \"civilians.\"   People trust them more than the engineers building them would trust them, more than they should.   In the Stanford research, they made a fake self-driving car which was actually being driven by the \"observer\" in the back seat with hidden controls.   They simulated the vehicle having a system failure and needing immediate take-over.  Even after the failure, subjects were happy to push the button to re-engage when told to by the observer, and they would pick up their newspaper and read again.\\nSo while yes, you may personally believe you would not get in one, and might even be right about yourself, the reality is huge numbers of people are ready to trust the vehicles, and a few positive experiences make them even more willing.  And that's before they are actually ready, and are always operated with safety drivers ready to handle any problem.     In truth, even people who say they would not be willing to trust it seem often to change their minds, so you might even be wrong about yourself when you say you would not ride it.\\nWould you get into a self-driving elevator?  Some day people will think this question is similar to that.</td>\n",
       "      <td>Yes, you would.</td>\n",
       "      <td>Yes\\nthe research shows people are amazingly trusting of them. \\nSo while yes, you may personally believe you would not get in one, and might even be right about yourself.</td>\n",
       "    </tr>\n",
       "    <tr>\n",
       "      <th>1</th>\n",
       "      <td>Its a no brainer for the following reasons:\\nI can make use of the time I spend driving. I spend almost 2 hrs a day driving back and forth from work, or just picking up people. So i can basically send my car to airport to pick up friends or family, the car can drop me to work and go back home or pickup kids.I am a bad driver, been into a few fender benders and my insurance is expected to get sky-high. No driving means I don't have to worry about insurance, even license for that instance. I cannot get a ticket or DUI problem. I don't have to worry about falling asleep on the wheel when I am driving late in the night or making a road trip. I can do what I want. Finding parking is a pain in the cities. Especially when I am running late for the meetings, I spend at least 20 min finding parking spots and then walking all the way back to the office. At the least, I can take calls, attend meetings or even watch movies while driving.\\nInitially the investment might be big, but the ROI is pretty awesome and worth it.\\nOnly problem will exist when I am running late to work and there is a traffic problem, however if everyone is driving a robotics car, i hope there would be no accidents to cause delays.</td>\n",
       "      <td>Its a no brainer\\nInitially the investment might be big, but the ROI is pretty awesome and worth it.</td>\n",
       "      <td>Its a no brainer for the following reasons\\nI don't have to worry about insurance, even license for that instance.\\nI cannot get a ticket or DUI problem.\\nOnly problem will exist when I am running late to work and there is a traffic problem\\nI hope there would be no accidents to cause delays.</td>\n",
       "    </tr>\n",
       "  </tbody>\n",
       "</table>\n",
       "</div>"
      ],
      "text/plain": [
       "                                                                                                                                                                                                                                                                                                                                                                                                                                                                                                                                                                                                                                                                                                                                                                                                                                                                                                                                                                                                                                                                                                                                                                                                                                                                                                                                                                                                                                                                                                                                                                                                                                                                                     text  \\\n",
       "0  Yes, you would.\\nWait, how dare I answer for you?  Sure, I can answer for myself, I have been in them many times, from several different teams.  But I've also watched other people in them, and seen the results of research at Stanford testing how people react to them.\\nAnd the research shows people are amazingly trusting of them.   One might even say disturbingly trusting, since all the vehicles today are prototypes which are not rated safe enough to be sold to \"civilians.\"   People trust them more than the engineers building them would trust them, more than they should.   In the Stanford research, they made a fake self-driving car which was actually being driven by the \"observer\" in the back seat with hidden controls.   They simulated the vehicle having a system failure and needing immediate take-over.  Even after the failure, subjects were happy to push the button to re-engage when told to by the observer, and they would pick up their newspaper and read again.\\nSo while yes, you may personally believe you would not get in one, and might even be right about yourself, the reality is huge numbers of people are ready to trust the vehicles, and a few positive experiences make them even more willing.  And that's before they are actually ready, and are always operated with safety drivers ready to handle any problem.     In truth, even people who say they would not be willing to trust it seem often to change their minds, so you might even be wrong about yourself when you say you would not ride it.\\nWould you get into a self-driving elevator?  Some day people will think this question is similar to that.   \n",
       "1                                                                                                                                                                                                                                                                                                                                                                                                                              Its a no brainer for the following reasons:\\nI can make use of the time I spend driving. I spend almost 2 hrs a day driving back and forth from work, or just picking up people. So i can basically send my car to airport to pick up friends or family, the car can drop me to work and go back home or pickup kids.I am a bad driver, been into a few fender benders and my insurance is expected to get sky-high. No driving means I don't have to worry about insurance, even license for that instance. I cannot get a ticket or DUI problem. I don't have to worry about falling asleep on the wheel when I am driving late in the night or making a road trip. I can do what I want. Finding parking is a pain in the cities. Especially when I am running late for the meetings, I spend at least 20 min finding parking spots and then walking all the way back to the office. At the least, I can take calls, attend meetings or even watch movies while driving.\\nInitially the investment might be big, but the ROI is pretty awesome and worth it.\\nOnly problem will exist when I am running late to work and there is a traffic problem, however if everyone is driving a robotics car, i hope there would be no accidents to cause delays.   \n",
       "\n",
       "                                                                                           ground-truth  \\\n",
       "0                                                                                       Yes, you would.   \n",
       "1  Its a no brainer\\nInitially the investment might be big, but the ROI is pretty awesome and worth it.   \n",
       "\n",
       "                                                                                                                                                                                                                                                                                              prediction  \n",
       "0                                                                                                                           Yes\\nthe research shows people are amazingly trusting of them. \\nSo while yes, you may personally believe you would not get in one, and might even be right about yourself.   \n",
       "1  Its a no brainer for the following reasons\\nI don't have to worry about insurance, even license for that instance.\\nI cannot get a ticket or DUI problem.\\nOnly problem will exist when I am running late to work and there is a traffic problem\\nI hope there would be no accidents to cause delays.  "
      ]
     },
     "execution_count": 9,
     "metadata": {},
     "output_type": "execute_result"
    }
   ],
   "source": [
    "pd.set_option('display.max_colwidth', None)\n",
    "new_df.head(2)"
   ]
  },
  {
   "cell_type": "code",
   "execution_count": null,
   "metadata": {},
   "outputs": [],
   "source": []
  }
 ],
 "metadata": {
  "kernelspec": {
   "display_name": "Python 3.9.5 ('transformers')",
   "language": "python",
   "name": "python3"
  },
  "language_info": {
   "codemirror_mode": {
    "name": "ipython",
    "version": 3
   },
   "file_extension": ".py",
   "mimetype": "text/x-python",
   "name": "python",
   "nbconvert_exporter": "python",
   "pygments_lexer": "ipython3",
   "version": "3.9.5"
  },
  "orig_nbformat": 4,
  "vscode": {
   "interpreter": {
    "hash": "8220953b88f764fcdbd0075b4138a91f664c10d8705b38466fc99d87a409cf1b"
   }
  }
 },
 "nbformat": 4,
 "nbformat_minor": 2
}
