{
 "cells": [
  {
   "cell_type": "markdown",
   "metadata": {},
   "source": [
    "## Read Data\n",
    "\n",
    "This is an experimental environment of dataloader, i.e., a file for debug. please ignore it"
   ]
  },
  {
   "cell_type": "code",
   "execution_count": 1,
   "metadata": {},
   "outputs": [],
   "source": [
    "%load_ext autoreload \n",
    "%autoreload 2"
   ]
  },
  {
   "cell_type": "code",
   "execution_count": 2,
   "metadata": {},
   "outputs": [],
   "source": [
    "import xml.etree.ElementTree as ET \n",
    "import glob\n",
    "import numpy as np\n",
    "import pandas as pd"
   ]
  },
  {
   "cell_type": "code",
   "execution_count": 3,
   "metadata": {},
   "outputs": [],
   "source": [
    "import sys\n",
    "sys.path.insert(1, 'scripts')\n",
    "from load_data import find_xml_files, load_objects, load_data"
   ]
  },
  {
   "cell_type": "code",
   "execution_count": 4,
   "metadata": {},
   "outputs": [
    {
     "name": "stdout",
     "output_type": "stream",
     "text": [
      "Find 78 XML files\n",
      "Error: No good matching with score 80.0 with target \" Yeah\" in reply of file:\n",
      "datasets/change-my-view-modes-master/v1.0/positive/99.xml\n",
      "120\n"
     ]
    }
   ],
   "source": [
    "data = load_data(target='claim')\n",
    "print(len(data))"
   ]
  },
  {
   "cell_type": "code",
   "execution_count": 5,
   "metadata": {},
   "outputs": [
    {
     "data": {
      "text/plain": [
       "29"
      ]
     },
     "execution_count": 5,
     "metadata": {},
     "output_type": "execute_result"
    }
   ],
   "source": [
    "np.argmax([len(x.split()) for x,y in data])"
   ]
  },
  {
   "cell_type": "code",
   "execution_count": 6,
   "metadata": {},
   "outputs": [],
   "source": [
    "x = [len(x.split()) for x,y in data]\n",
    "y = [len(y.split()) for x,y in data]\n"
   ]
  },
  {
   "cell_type": "code",
   "execution_count": 7,
   "metadata": {},
   "outputs": [
    {
     "data": {
      "text/html": [
       "<div>\n",
       "<style scoped>\n",
       "    .dataframe tbody tr th:only-of-type {\n",
       "        vertical-align: middle;\n",
       "    }\n",
       "\n",
       "    .dataframe tbody tr th {\n",
       "        vertical-align: top;\n",
       "    }\n",
       "\n",
       "    .dataframe thead th {\n",
       "        text-align: right;\n",
       "    }\n",
       "</style>\n",
       "<table border=\"1\" class=\"dataframe\">\n",
       "  <thead>\n",
       "    <tr style=\"text-align: right;\">\n",
       "      <th></th>\n",
       "      <th>0</th>\n",
       "    </tr>\n",
       "  </thead>\n",
       "  <tbody>\n",
       "    <tr>\n",
       "      <th>count</th>\n",
       "      <td>120.000000</td>\n",
       "    </tr>\n",
       "    <tr>\n",
       "      <th>mean</th>\n",
       "      <td>47.766667</td>\n",
       "    </tr>\n",
       "    <tr>\n",
       "      <th>std</th>\n",
       "      <td>22.437114</td>\n",
       "    </tr>\n",
       "    <tr>\n",
       "      <th>min</th>\n",
       "      <td>12.000000</td>\n",
       "    </tr>\n",
       "    <tr>\n",
       "      <th>25%</th>\n",
       "      <td>30.750000</td>\n",
       "    </tr>\n",
       "    <tr>\n",
       "      <th>50%</th>\n",
       "      <td>43.000000</td>\n",
       "    </tr>\n",
       "    <tr>\n",
       "      <th>75%</th>\n",
       "      <td>64.500000</td>\n",
       "    </tr>\n",
       "    <tr>\n",
       "      <th>max</th>\n",
       "      <td>100.000000</td>\n",
       "    </tr>\n",
       "  </tbody>\n",
       "</table>\n",
       "</div>"
      ],
      "text/plain": [
       "                0\n",
       "count  120.000000\n",
       "mean    47.766667\n",
       "std     22.437114\n",
       "min     12.000000\n",
       "25%     30.750000\n",
       "50%     43.000000\n",
       "75%     64.500000\n",
       "max    100.000000"
      ]
     },
     "execution_count": 7,
     "metadata": {},
     "output_type": "execute_result"
    }
   ],
   "source": [
    "df_describe = pd.DataFrame(x)\n",
    "df_describe.describe()"
   ]
  },
  {
   "cell_type": "code",
   "execution_count": 8,
   "metadata": {},
   "outputs": [
    {
     "data": {
      "text/plain": [
       "(0, 0)"
      ]
     },
     "execution_count": 8,
     "metadata": {},
     "output_type": "execute_result"
    }
   ],
   "source": [
    "np.sum(np.array(x) > 300), np.sum(np.array(y) > 300)\n"
   ]
  },
  {
   "cell_type": "code",
   "execution_count": 9,
   "metadata": {},
   "outputs": [
    {
     "data": {
      "text/html": [
       "<div>\n",
       "<style scoped>\n",
       "    .dataframe tbody tr th:only-of-type {\n",
       "        vertical-align: middle;\n",
       "    }\n",
       "\n",
       "    .dataframe tbody tr th {\n",
       "        vertical-align: top;\n",
       "    }\n",
       "\n",
       "    .dataframe thead th {\n",
       "        text-align: right;\n",
       "    }\n",
       "</style>\n",
       "<table border=\"1\" class=\"dataframe\">\n",
       "  <thead>\n",
       "    <tr style=\"text-align: right;\">\n",
       "      <th></th>\n",
       "      <th>0</th>\n",
       "    </tr>\n",
       "  </thead>\n",
       "  <tbody>\n",
       "    <tr>\n",
       "      <th>count</th>\n",
       "      <td>120.000000</td>\n",
       "    </tr>\n",
       "    <tr>\n",
       "      <th>mean</th>\n",
       "      <td>21.450000</td>\n",
       "    </tr>\n",
       "    <tr>\n",
       "      <th>std</th>\n",
       "      <td>14.096814</td>\n",
       "    </tr>\n",
       "    <tr>\n",
       "      <th>min</th>\n",
       "      <td>1.000000</td>\n",
       "    </tr>\n",
       "    <tr>\n",
       "      <th>25%</th>\n",
       "      <td>11.750000</td>\n",
       "    </tr>\n",
       "    <tr>\n",
       "      <th>50%</th>\n",
       "      <td>17.000000</td>\n",
       "    </tr>\n",
       "    <tr>\n",
       "      <th>75%</th>\n",
       "      <td>29.250000</td>\n",
       "    </tr>\n",
       "    <tr>\n",
       "      <th>max</th>\n",
       "      <td>62.000000</td>\n",
       "    </tr>\n",
       "  </tbody>\n",
       "</table>\n",
       "</div>"
      ],
      "text/plain": [
       "                0\n",
       "count  120.000000\n",
       "mean    21.450000\n",
       "std     14.096814\n",
       "min      1.000000\n",
       "25%     11.750000\n",
       "50%     17.000000\n",
       "75%     29.250000\n",
       "max     62.000000"
      ]
     },
     "execution_count": 9,
     "metadata": {},
     "output_type": "execute_result"
    }
   ],
   "source": [
    "df_describe = pd.DataFrame(y)\n",
    "df_describe.describe()"
   ]
  },
  {
   "cell_type": "code",
   "execution_count": 10,
   "metadata": {},
   "outputs": [],
   "source": [
    "# t = ET.parse('datasets/change-my-view-modes-master/v1.0/positive/77.xml')\n",
    "# r = t.getroot()\n",
    "# s = ET.tostring(r[2], encoding='utf-8', method='text').decode('utf-8')\n",
    "# ls = s.strip().split('\\n\\n')\n",
    "# ls\n"
   ]
  },
  {
   "cell_type": "markdown",
   "metadata": {},
   "source": [
    "## Build data set"
   ]
  },
  {
   "cell_type": "code",
   "execution_count": 11,
   "metadata": {},
   "outputs": [],
   "source": [
    "from sklearn.model_selection import train_test_split\n",
    "import os\n",
    "import pandas as pd\n",
    "import numpy as np"
   ]
  },
  {
   "cell_type": "code",
   "execution_count": 12,
   "metadata": {},
   "outputs": [
    {
     "name": "stdout",
     "output_type": "stream",
     "text": [
      "Find 78 XML files\n",
      "Error: No good matching with score 80.0 with target \" Yeah\" in reply of file:\n",
      "datasets/change-my-view-modes-master/v1.0/positive/99.xml\n",
      "Load 120 claims\n"
     ]
    },
    {
     "data": {
      "text/html": [
       "<div>\n",
       "<style scoped>\n",
       "    .dataframe tbody tr th:only-of-type {\n",
       "        vertical-align: middle;\n",
       "    }\n",
       "\n",
       "    .dataframe tbody tr th {\n",
       "        vertical-align: top;\n",
       "    }\n",
       "\n",
       "    .dataframe thead th {\n",
       "        text-align: right;\n",
       "    }\n",
       "</style>\n",
       "<table border=\"1\" class=\"dataframe\">\n",
       "  <thead>\n",
       "    <tr style=\"text-align: right;\">\n",
       "      <th></th>\n",
       "      <th>text</th>\n",
       "      <th>claim</th>\n",
       "    </tr>\n",
       "  </thead>\n",
       "  <tbody>\n",
       "    <tr>\n",
       "      <th>0</th>\n",
       "      <td>∆\\n\\nSo instead of genocide we simply go back ...</td>\n",
       "      <td>So instead of genocide we simply go back to fe...</td>\n",
       "    </tr>\n",
       "    <tr>\n",
       "      <th>1</th>\n",
       "      <td>∆\\nThat makes a lot of sense!\\nThank you! I ca...</td>\n",
       "      <td>it would be a wasteless system if there were m...</td>\n",
       "    </tr>\n",
       "    <tr>\n",
       "      <th>2</th>\n",
       "      <td>Christianity was primarily spread by the Roman...</td>\n",
       "      <td>So the victory of Christianity over the Roman ...</td>\n",
       "    </tr>\n",
       "    <tr>\n",
       "      <th>3</th>\n",
       "      <td>I'm definitely intrigued by this, but not quit...</td>\n",
       "      <td>I'm definitely intrigued by this, but not quit...</td>\n",
       "    </tr>\n",
       "    <tr>\n",
       "      <th>4</th>\n",
       "      <td>Well, you have successfully moved me from \"it'...</td>\n",
       "      <td>Well, you have successfully moved me from \"it'...</td>\n",
       "    </tr>\n",
       "  </tbody>\n",
       "</table>\n",
       "</div>"
      ],
      "text/plain": [
       "                                                text  \\\n",
       "0  ∆\\n\\nSo instead of genocide we simply go back ...   \n",
       "1  ∆\\nThat makes a lot of sense!\\nThank you! I ca...   \n",
       "2  Christianity was primarily spread by the Roman...   \n",
       "3  I'm definitely intrigued by this, but not quit...   \n",
       "4  Well, you have successfully moved me from \"it'...   \n",
       "\n",
       "                                               claim  \n",
       "0  So instead of genocide we simply go back to fe...  \n",
       "1  it would be a wasteless system if there were m...  \n",
       "2  So the victory of Christianity over the Roman ...  \n",
       "3  I'm definitely intrigued by this, but not quit...  \n",
       "4  Well, you have successfully moved me from \"it'...  "
      ]
     },
     "metadata": {},
     "output_type": "display_data"
    }
   ],
   "source": [
    "if not os.path.exists('data/claims'):\n",
    "    os.mkdir('data/claims')\n",
    "data = load_data(base_dir='datasets/change-my-view-modes-master/v1.0', target='claim')\n",
    "print(f'Load {len(data)} claims')\n",
    "\n",
    "df = pd.DataFrame(data, columns=['text', 'claim'])\n",
    "display(df.head())\n",
    "\n",
    "train, test = train_test_split(df, test_size=0.3, random_state=43)\n",
    "\n",
    "train.to_csv('data/claims/train.csv', index=False)\n",
    "test.to_csv('data/claims/test.csv', index=False)"
   ]
  },
  {
   "cell_type": "code",
   "execution_count": 13,
   "metadata": {},
   "outputs": [
    {
     "name": "stdout",
     "output_type": "stream",
     "text": [
      "Find 78 XML files\n",
      "Load 85 premises\n"
     ]
    },
    {
     "data": {
      "text/html": [
       "<div>\n",
       "<style scoped>\n",
       "    .dataframe tbody tr th:only-of-type {\n",
       "        vertical-align: middle;\n",
       "    }\n",
       "\n",
       "    .dataframe tbody tr th {\n",
       "        vertical-align: top;\n",
       "    }\n",
       "\n",
       "    .dataframe thead th {\n",
       "        text-align: right;\n",
       "    }\n",
       "</style>\n",
       "<table border=\"1\" class=\"dataframe\">\n",
       "  <thead>\n",
       "    <tr style=\"text-align: right;\">\n",
       "      <th></th>\n",
       "      <th>text</th>\n",
       "      <th>premise</th>\n",
       "    </tr>\n",
       "  </thead>\n",
       "  <tbody>\n",
       "    <tr>\n",
       "      <th>0</th>\n",
       "      <td>Christianity was primarily spread by the Roman...</td>\n",
       "      <td>Christianity was primarily spread by the Roman...</td>\n",
       "    </tr>\n",
       "    <tr>\n",
       "      <th>1</th>\n",
       "      <td>Then wouldn't a complement be just an acknowle...</td>\n",
       "      <td>Then wouldn't a complement be just an acknowle...</td>\n",
       "    </tr>\n",
       "    <tr>\n",
       "      <th>2</th>\n",
       "      <td>When I receive a compliment I should publicly ...</td>\n",
       "      <td>No only am I accepting their compliment\\nI'm s...</td>\n",
       "    </tr>\n",
       "    <tr>\n",
       "      <th>3</th>\n",
       "      <td>It wouldn't be a fine, since it would only be ...</td>\n",
       "      <td>since it would only be a suspension of \"assist...</td>\n",
       "    </tr>\n",
       "    <tr>\n",
       "      <th>4</th>\n",
       "      <td>∆\\n\\nEdit: tried to award you the delta.\\n\\nNa...</td>\n",
       "      <td>Some people can do some thing's better than ot...</td>\n",
       "    </tr>\n",
       "  </tbody>\n",
       "</table>\n",
       "</div>"
      ],
      "text/plain": [
       "                                                text  \\\n",
       "0  Christianity was primarily spread by the Roman...   \n",
       "1  Then wouldn't a complement be just an acknowle...   \n",
       "2  When I receive a compliment I should publicly ...   \n",
       "3  It wouldn't be a fine, since it would only be ...   \n",
       "4  ∆\\n\\nEdit: tried to award you the delta.\\n\\nNa...   \n",
       "\n",
       "                                             premise  \n",
       "0  Christianity was primarily spread by the Roman...  \n",
       "1  Then wouldn't a complement be just an acknowle...  \n",
       "2  No only am I accepting their compliment\\nI'm s...  \n",
       "3  since it would only be a suspension of \"assist...  \n",
       "4  Some people can do some thing's better than ot...  "
      ]
     },
     "metadata": {},
     "output_type": "display_data"
    }
   ],
   "source": [
    "if not os.path.exists('data/premises'):\n",
    "    os.mkdir('data/premises')\n",
    "data = load_data(base_dir='datasets/change-my-view-modes-master/v1.0', target='premise')\n",
    "print(f'Load {len(data)} premises')\n",
    "df = pd.DataFrame(data=data, columns=['text', 'premise'])\n",
    "display(df.head())\n",
    "train, test = train_test_split(df, test_size=0.3, random_state=43)\n",
    "train.to_csv('data/premises/train.csv')\n",
    "test.to_csv('data/premises/test.csv')\n"
   ]
  },
  {
   "cell_type": "code",
   "execution_count": null,
   "metadata": {},
   "outputs": [],
   "source": []
  }
 ],
 "metadata": {
  "kernelspec": {
   "display_name": "Python 3.9.5 ('venv')",
   "language": "python",
   "name": "python3"
  },
  "language_info": {
   "codemirror_mode": {
    "name": "ipython",
    "version": 3
   },
   "file_extension": ".py",
   "mimetype": "text/x-python",
   "name": "python",
   "nbconvert_exporter": "python",
   "pygments_lexer": "ipython3",
   "version": "3.9.5"
  },
  "orig_nbformat": 4,
  "vscode": {
   "interpreter": {
    "hash": "640cace4827df8bb8e1edb3566e4e979a7918609c95fe3eaf671877de41a29fe"
   }
  }
 },
 "nbformat": 4,
 "nbformat_minor": 2
}
