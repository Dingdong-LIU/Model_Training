{
 "cells": [
  {
   "cell_type": "markdown",
   "metadata": {},
   "source": [
    "## Read Data\n",
    "\n",
    "This is an experimental environment of dataloader, i.e., a file for debug. please ignore it"
   ]
  },
  {
   "cell_type": "code",
   "execution_count": 1,
   "metadata": {},
   "outputs": [],
   "source": [
    "%load_ext autoreload \n",
    "%autoreload 2"
   ]
  },
  {
   "cell_type": "code",
   "execution_count": 2,
   "metadata": {},
   "outputs": [],
   "source": [
    "import xml.etree.ElementTree as ET \n",
    "import glob\n",
    "import numpy as np\n",
    "import pandas as pd"
   ]
  },
  {
   "cell_type": "code",
   "execution_count": 3,
   "metadata": {},
   "outputs": [],
   "source": [
    "import sys\n",
    "sys.path.insert(1, 'scripts')\n",
    "from load_data import find_xml_files, load_objects, load_data"
   ]
  },
  {
   "cell_type": "code",
   "execution_count": 4,
   "metadata": {},
   "outputs": [
    {
     "name": "stdout",
     "output_type": "stream",
     "text": [
      "Find 78 XML files\n",
      "Too long in reply (lenth 109) of file:\n",
      "datasets/change-my-view-modes-master/v1.0/positive/82.xml\n",
      "Too long in reply (lenth 106) of file:\n",
      "datasets/change-my-view-modes-master/v1.0/negative/78.xml\n",
      "597\n"
     ]
    }
   ],
   "source": [
    "data = load_data(target='claim')\n",
    "print(len(data))"
   ]
  },
  {
   "cell_type": "code",
   "execution_count": 5,
   "metadata": {},
   "outputs": [
    {
     "data": {
      "text/plain": [
       "261"
      ]
     },
     "execution_count": 5,
     "metadata": {},
     "output_type": "execute_result"
    }
   ],
   "source": [
    "np.argmax([len(x.split()) for x,y in data])"
   ]
  },
  {
   "cell_type": "code",
   "execution_count": null,
   "metadata": {},
   "outputs": [],
   "source": []
  },
  {
   "cell_type": "code",
   "execution_count": 6,
   "metadata": {},
   "outputs": [],
   "source": [
    "x = [len(x.split()) for x,y in data]\n",
    "y = [len(y.split()) for x,y in data]\n"
   ]
  },
  {
   "cell_type": "code",
   "execution_count": 7,
   "metadata": {},
   "outputs": [
    {
     "data": {
      "text/html": [
       "<div>\n",
       "<style scoped>\n",
       "    .dataframe tbody tr th:only-of-type {\n",
       "        vertical-align: middle;\n",
       "    }\n",
       "\n",
       "    .dataframe tbody tr th {\n",
       "        vertical-align: top;\n",
       "    }\n",
       "\n",
       "    .dataframe thead th {\n",
       "        text-align: right;\n",
       "    }\n",
       "</style>\n",
       "<table border=\"1\" class=\"dataframe\">\n",
       "  <thead>\n",
       "    <tr style=\"text-align: right;\">\n",
       "      <th></th>\n",
       "      <th>0</th>\n",
       "    </tr>\n",
       "  </thead>\n",
       "  <tbody>\n",
       "    <tr>\n",
       "      <th>count</th>\n",
       "      <td>597.000000</td>\n",
       "    </tr>\n",
       "    <tr>\n",
       "      <th>mean</th>\n",
       "      <td>66.855946</td>\n",
       "    </tr>\n",
       "    <tr>\n",
       "      <th>std</th>\n",
       "      <td>46.858448</td>\n",
       "    </tr>\n",
       "    <tr>\n",
       "      <th>min</th>\n",
       "      <td>2.000000</td>\n",
       "    </tr>\n",
       "    <tr>\n",
       "      <th>25%</th>\n",
       "      <td>32.000000</td>\n",
       "    </tr>\n",
       "    <tr>\n",
       "      <th>50%</th>\n",
       "      <td>53.000000</td>\n",
       "    </tr>\n",
       "    <tr>\n",
       "      <th>75%</th>\n",
       "      <td>91.000000</td>\n",
       "    </tr>\n",
       "    <tr>\n",
       "      <th>max</th>\n",
       "      <td>268.000000</td>\n",
       "    </tr>\n",
       "  </tbody>\n",
       "</table>\n",
       "</div>"
      ],
      "text/plain": [
       "                0\n",
       "count  597.000000\n",
       "mean    66.855946\n",
       "std     46.858448\n",
       "min      2.000000\n",
       "25%     32.000000\n",
       "50%     53.000000\n",
       "75%     91.000000\n",
       "max    268.000000"
      ]
     },
     "execution_count": 7,
     "metadata": {},
     "output_type": "execute_result"
    }
   ],
   "source": [
    "df_describe = pd.DataFrame(x)\n",
    "df_describe.describe()"
   ]
  },
  {
   "cell_type": "code",
   "execution_count": 8,
   "metadata": {},
   "outputs": [
    {
     "data": {
      "text/plain": [
       "(0, 0)"
      ]
     },
     "execution_count": 8,
     "metadata": {},
     "output_type": "execute_result"
    }
   ],
   "source": [
    "np.sum(np.array(x) > 300), np.sum(np.array(y) > 300)\n"
   ]
  },
  {
   "cell_type": "code",
   "execution_count": 9,
   "metadata": {},
   "outputs": [
    {
     "data": {
      "text/html": [
       "<div>\n",
       "<style scoped>\n",
       "    .dataframe tbody tr th:only-of-type {\n",
       "        vertical-align: middle;\n",
       "    }\n",
       "\n",
       "    .dataframe tbody tr th {\n",
       "        vertical-align: top;\n",
       "    }\n",
       "\n",
       "    .dataframe thead th {\n",
       "        text-align: right;\n",
       "    }\n",
       "</style>\n",
       "<table border=\"1\" class=\"dataframe\">\n",
       "  <thead>\n",
       "    <tr style=\"text-align: right;\">\n",
       "      <th></th>\n",
       "      <th>0</th>\n",
       "    </tr>\n",
       "  </thead>\n",
       "  <tbody>\n",
       "    <tr>\n",
       "      <th>count</th>\n",
       "      <td>597.000000</td>\n",
       "    </tr>\n",
       "    <tr>\n",
       "      <th>mean</th>\n",
       "      <td>27.525963</td>\n",
       "    </tr>\n",
       "    <tr>\n",
       "      <th>std</th>\n",
       "      <td>19.475025</td>\n",
       "    </tr>\n",
       "    <tr>\n",
       "      <th>min</th>\n",
       "      <td>1.000000</td>\n",
       "    </tr>\n",
       "    <tr>\n",
       "      <th>25%</th>\n",
       "      <td>14.000000</td>\n",
       "    </tr>\n",
       "    <tr>\n",
       "      <th>50%</th>\n",
       "      <td>22.000000</td>\n",
       "    </tr>\n",
       "    <tr>\n",
       "      <th>75%</th>\n",
       "      <td>37.000000</td>\n",
       "    </tr>\n",
       "    <tr>\n",
       "      <th>max</th>\n",
       "      <td>109.000000</td>\n",
       "    </tr>\n",
       "  </tbody>\n",
       "</table>\n",
       "</div>"
      ],
      "text/plain": [
       "                0\n",
       "count  597.000000\n",
       "mean    27.525963\n",
       "std     19.475025\n",
       "min      1.000000\n",
       "25%     14.000000\n",
       "50%     22.000000\n",
       "75%     37.000000\n",
       "max    109.000000"
      ]
     },
     "execution_count": 9,
     "metadata": {},
     "output_type": "execute_result"
    }
   ],
   "source": [
    "df_describe = pd.DataFrame(y)\n",
    "df_describe.describe()"
   ]
  },
  {
   "cell_type": "code",
   "execution_count": 10,
   "metadata": {},
   "outputs": [],
   "source": [
    "# t = ET.parse('datasets/change-my-view-modes-master/v1.0/positive/77.xml')\n",
    "# r = t.getroot()\n",
    "# s = ET.tostring(r[2], encoding='utf-8', method='text').decode('utf-8')\n",
    "# ls = s.strip().split('\\n\\n')\n",
    "# ls\n"
   ]
  },
  {
   "cell_type": "markdown",
   "metadata": {},
   "source": [
    "## Build data set"
   ]
  },
  {
   "cell_type": "code",
   "execution_count": 11,
   "metadata": {},
   "outputs": [],
   "source": [
    "from sklearn.model_selection import train_test_split\n",
    "import os\n",
    "import pandas as pd\n",
    "import numpy as np"
   ]
  },
  {
   "cell_type": "code",
   "execution_count": 12,
   "metadata": {},
   "outputs": [
    {
     "name": "stdout",
     "output_type": "stream",
     "text": [
      "Find 78 XML files\n",
      "Too long in reply (lenth 109) of file:\n",
      "datasets/change-my-view-modes-master/v1.0/positive/82.xml\n",
      "Too long in reply (lenth 106) of file:\n",
      "datasets/change-my-view-modes-master/v1.0/negative/78.xml\n",
      "Load 597 claims\n"
     ]
    },
    {
     "data": {
      "text/html": [
       "<div>\n",
       "<style scoped>\n",
       "    .dataframe tbody tr th:only-of-type {\n",
       "        vertical-align: middle;\n",
       "    }\n",
       "\n",
       "    .dataframe tbody tr th {\n",
       "        vertical-align: top;\n",
       "    }\n",
       "\n",
       "    .dataframe thead th {\n",
       "        text-align: right;\n",
       "    }\n",
       "</style>\n",
       "<table border=\"1\" class=\"dataframe\">\n",
       "  <thead>\n",
       "    <tr style=\"text-align: right;\">\n",
       "      <th></th>\n",
       "      <th>text</th>\n",
       "      <th>claim</th>\n",
       "    </tr>\n",
       "  </thead>\n",
       "  <tbody>\n",
       "    <tr>\n",
       "      <th>0</th>\n",
       "      <td>In short, in a world where the cost of physica...</td>\n",
       "      <td>In short, in a world where the cost of physica...</td>\n",
       "    </tr>\n",
       "    <tr>\n",
       "      <th>1</th>\n",
       "      <td>∆\\n\\nSo instead of genocide we simply go back ...</td>\n",
       "      <td>So instead of genocide we simply go back to fe...</td>\n",
       "    </tr>\n",
       "    <tr>\n",
       "      <th>2</th>\n",
       "      <td>As I understand it, and crudely explained, SVT...</td>\n",
       "      <td>waste has to be produced in order for the syst...</td>\n",
       "    </tr>\n",
       "    <tr>\n",
       "      <th>3</th>\n",
       "      <td>This example then scales up to the whole world...</td>\n",
       "      <td>items that cannot be sold must still be produc...</td>\n",
       "    </tr>\n",
       "    <tr>\n",
       "      <th>4</th>\n",
       "      <td>This is one of those views that likes to view ...</td>\n",
       "      <td>This is one of those views that likes to view ...</td>\n",
       "    </tr>\n",
       "  </tbody>\n",
       "</table>\n",
       "</div>"
      ],
      "text/plain": [
       "                                                text  \\\n",
       "0  In short, in a world where the cost of physica...   \n",
       "1  ∆\\n\\nSo instead of genocide we simply go back ...   \n",
       "2  As I understand it, and crudely explained, SVT...   \n",
       "3  This example then scales up to the whole world...   \n",
       "4  This is one of those views that likes to view ...   \n",
       "\n",
       "                                               claim  \n",
       "0  In short, in a world where the cost of physica...  \n",
       "1  So instead of genocide we simply go back to fe...  \n",
       "2  waste has to be produced in order for the syst...  \n",
       "3  items that cannot be sold must still be produc...  \n",
       "4  This is one of those views that likes to view ...  "
      ]
     },
     "metadata": {},
     "output_type": "display_data"
    }
   ],
   "source": [
    "if not os.path.exists('data/claims'):\n",
    "    os.mkdir('data/claims')\n",
    "data = load_data(base_dir='datasets/change-my-view-modes-master/v1.0', target='claim')\n",
    "print(f'Load {len(data)} claims')\n",
    "\n",
    "df = pd.DataFrame(data, columns=['text', 'claim'])\n",
    "display(df.head())\n",
    "\n",
    "train, test = train_test_split(df, test_size=0.3, random_state=43)\n",
    "\n",
    "train.to_csv('data/claims/train.csv', index=False)\n",
    "test.to_csv('data/claims/test.csv', index=False)"
   ]
  },
  {
   "cell_type": "code",
   "execution_count": 13,
   "metadata": {},
   "outputs": [
    {
     "name": "stdout",
     "output_type": "stream",
     "text": [
      "Find 78 XML files\n",
      "Too long in OP (lenth 111) of file:\n",
      "datasets/change-my-view-modes-master/v1.0/positive/88.xml\n",
      "Too long in reply (lenth 141) of file:\n",
      "datasets/change-my-view-modes-master/v1.0/positive/70.xml\n",
      "Too long in reply (lenth 122) of file:\n",
      "datasets/change-my-view-modes-master/v1.0/positive/12.xml\n",
      "Too long in OP (lenth 108) of file:\n",
      "datasets/change-my-view-modes-master/v1.0/positive/81.xml\n",
      "Too long in reply (lenth 102) of file:\n",
      "datasets/change-my-view-modes-master/v1.0/positive/95.xml\n",
      "Too long in reply (lenth 122) of file:\n",
      "datasets/change-my-view-modes-master/v1.0/positive/96.xml\n",
      "Too long in reply (lenth 135) of file:\n",
      "datasets/change-my-view-modes-master/v1.0/positive/82.xml\n",
      "Too long in reply (lenth 142) of file:\n",
      "datasets/change-my-view-modes-master/v1.0/positive/82.xml\n",
      "Too long in reply (lenth 101) of file:\n",
      "datasets/change-my-view-modes-master/v1.0/positive/87.xml\n",
      "Too long in reply (lenth 122) of file:\n",
      "datasets/change-my-view-modes-master/v1.0/positive/86.xml\n",
      "Too long in reply (lenth 103) of file:\n",
      "datasets/change-my-view-modes-master/v1.0/positive/90.xml\n",
      "Too long in reply (lenth 115) of file:\n",
      "datasets/change-my-view-modes-master/v1.0/negative/99.xml\n",
      "Too long in reply (lenth 156) of file:\n",
      "datasets/change-my-view-modes-master/v1.0/negative/12.xml\n",
      "Too long in reply (lenth 103) of file:\n",
      "datasets/change-my-view-modes-master/v1.0/negative/81.xml\n",
      "Too long in reply (lenth 120) of file:\n",
      "datasets/change-my-view-modes-master/v1.0/negative/94.xml\n",
      "Load 570 premises\n"
     ]
    },
    {
     "data": {
      "text/html": [
       "<div>\n",
       "<style scoped>\n",
       "    .dataframe tbody tr th:only-of-type {\n",
       "        vertical-align: middle;\n",
       "    }\n",
       "\n",
       "    .dataframe tbody tr th {\n",
       "        vertical-align: top;\n",
       "    }\n",
       "\n",
       "    .dataframe thead th {\n",
       "        text-align: right;\n",
       "    }\n",
       "</style>\n",
       "<table border=\"1\" class=\"dataframe\">\n",
       "  <thead>\n",
       "    <tr style=\"text-align: right;\">\n",
       "      <th></th>\n",
       "      <th>text</th>\n",
       "      <th>premise</th>\n",
       "    </tr>\n",
       "  </thead>\n",
       "  <tbody>\n",
       "    <tr>\n",
       "      <th>0</th>\n",
       "      <td>[47% of all jobs are at risk of being automate...</td>\n",
       "      <td>[47% of all jobs are at risk of being automate...</td>\n",
       "    </tr>\n",
       "    <tr>\n",
       "      <th>1</th>\n",
       "      <td>Throughout history, people tend to use their w...</td>\n",
       "      <td>Throughout history, people tend to use their w...</td>\n",
       "    </tr>\n",
       "    <tr>\n",
       "      <th>2</th>\n",
       "      <td>There was a time, say in the 18th century, whe...</td>\n",
       "      <td>There was a time, say in the 18th century, whe...</td>\n",
       "    </tr>\n",
       "    <tr>\n",
       "      <th>3</th>\n",
       "      <td>Nowadays, you would never see a wealthy leader...</td>\n",
       "      <td>Nowadays, you would never see a wealthy leader...</td>\n",
       "    </tr>\n",
       "    <tr>\n",
       "      <th>4</th>\n",
       "      <td>Or consider beauty standards.\\nBack during the...</td>\n",
       "      <td>Or consider beauty standards.\\nBack during the...</td>\n",
       "    </tr>\n",
       "  </tbody>\n",
       "</table>\n",
       "</div>"
      ],
      "text/plain": [
       "                                                text  \\\n",
       "0  [47% of all jobs are at risk of being automate...   \n",
       "1  Throughout history, people tend to use their w...   \n",
       "2  There was a time, say in the 18th century, whe...   \n",
       "3  Nowadays, you would never see a wealthy leader...   \n",
       "4  Or consider beauty standards.\\nBack during the...   \n",
       "\n",
       "                                             premise  \n",
       "0  [47% of all jobs are at risk of being automate...  \n",
       "1  Throughout history, people tend to use their w...  \n",
       "2  There was a time, say in the 18th century, whe...  \n",
       "3  Nowadays, you would never see a wealthy leader...  \n",
       "4  Or consider beauty standards.\\nBack during the...  "
      ]
     },
     "metadata": {},
     "output_type": "display_data"
    }
   ],
   "source": [
    "if not os.path.exists('data/premises'):\n",
    "    os.mkdir('data/premises')\n",
    "data = load_data(base_dir='datasets/change-my-view-modes-master/v1.0', target='premise')\n",
    "print(f'Load {len(data)} premises')\n",
    "df = pd.DataFrame(data=data, columns=['text', 'premise'])\n",
    "display(df.head())\n",
    "train, test = train_test_split(df, test_size=0.3, random_state=43)\n",
    "train.to_csv('data/premises/train.csv')\n",
    "test.to_csv('data/premises/test.csv')\n"
   ]
  },
  {
   "cell_type": "code",
   "execution_count": null,
   "metadata": {},
   "outputs": [],
   "source": []
  }
 ],
 "metadata": {
  "kernelspec": {
   "display_name": "Python 3.9.5 ('venv')",
   "language": "python",
   "name": "python3"
  },
  "language_info": {
   "codemirror_mode": {
    "name": "ipython",
    "version": 3
   },
   "file_extension": ".py",
   "mimetype": "text/x-python",
   "name": "python",
   "nbconvert_exporter": "python",
   "pygments_lexer": "ipython3",
   "version": "3.9.5"
  },
  "orig_nbformat": 4,
  "vscode": {
   "interpreter": {
    "hash": "640cace4827df8bb8e1edb3566e4e979a7918609c95fe3eaf671877de41a29fe"
   }
  }
 },
 "nbformat": 4,
 "nbformat_minor": 2
}
