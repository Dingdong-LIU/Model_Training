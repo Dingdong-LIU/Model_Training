{
 "cells": [
  {
   "cell_type": "markdown",
   "metadata": {},
   "source": [
    "## Load Data\n",
    "\n",
    "This is an experimental environment of dataloader, i.e., a file for debug. please ignore it"
   ]
  },
  {
   "cell_type": "code",
   "execution_count": 1,
   "metadata": {},
   "outputs": [],
   "source": [
    "%load_ext autoreload \n",
    "%autoreload 2"
   ]
  },
  {
   "cell_type": "code",
   "execution_count": 2,
   "metadata": {},
   "outputs": [],
   "source": [
    "import xml.etree.ElementTree as ET \n",
    "import glob\n",
    "import numpy as np\n",
    "import pandas as pd"
   ]
  },
  {
   "cell_type": "markdown",
   "metadata": {},
   "source": [
    "### Load evaluation and training data"
   ]
  },
  {
   "cell_type": "code",
   "execution_count": 3,
   "metadata": {},
   "outputs": [],
   "source": [
    "import sys\n",
    "sys.path.insert(1, 'scripts')\n",
    "from load_data import find_xml_files, load_objects, load_data"
   ]
  },
  {
   "cell_type": "code",
   "execution_count": 4,
   "metadata": {},
   "outputs": [
    {
     "name": "stdout",
     "output_type": "stream",
     "text": [
      "Find 78 XML files\n",
      "Too long in reply (lenth 109) of file:\n",
      "datasets/change-my-view-modes-master/v1.0/positive/82.xml\n",
      "Too long in reply (lenth 106) of file:\n",
      "datasets/change-my-view-modes-master/v1.0/negative/78.xml\n",
      "597\n"
     ]
    }
   ],
   "source": [
    "data = load_data(target='claim')\n",
    "print(len(data))"
   ]
  },
  {
   "cell_type": "code",
   "execution_count": 5,
   "metadata": {},
   "outputs": [
    {
     "data": {
      "text/plain": [
       "132"
      ]
     },
     "execution_count": 5,
     "metadata": {},
     "output_type": "execute_result"
    }
   ],
   "source": [
    "x = [len(x.split()) for x, y in data]\n",
    "y = [len(y.split()) for x, y in data]\n",
    "np.argmax([len(x.split()) for x,y in data])\n"
   ]
  },
  {
   "cell_type": "code",
   "execution_count": 6,
   "metadata": {},
   "outputs": [
    {
     "data": {
      "text/html": [
       "<div>\n",
       "<style scoped>\n",
       "    .dataframe tbody tr th:only-of-type {\n",
       "        vertical-align: middle;\n",
       "    }\n",
       "\n",
       "    .dataframe tbody tr th {\n",
       "        vertical-align: top;\n",
       "    }\n",
       "\n",
       "    .dataframe thead th {\n",
       "        text-align: right;\n",
       "    }\n",
       "</style>\n",
       "<table border=\"1\" class=\"dataframe\">\n",
       "  <thead>\n",
       "    <tr style=\"text-align: right;\">\n",
       "      <th></th>\n",
       "      <th>0</th>\n",
       "    </tr>\n",
       "  </thead>\n",
       "  <tbody>\n",
       "    <tr>\n",
       "      <th>count</th>\n",
       "      <td>597.000000</td>\n",
       "    </tr>\n",
       "    <tr>\n",
       "      <th>mean</th>\n",
       "      <td>66.855946</td>\n",
       "    </tr>\n",
       "    <tr>\n",
       "      <th>std</th>\n",
       "      <td>46.858448</td>\n",
       "    </tr>\n",
       "    <tr>\n",
       "      <th>min</th>\n",
       "      <td>2.000000</td>\n",
       "    </tr>\n",
       "    <tr>\n",
       "      <th>25%</th>\n",
       "      <td>32.000000</td>\n",
       "    </tr>\n",
       "    <tr>\n",
       "      <th>50%</th>\n",
       "      <td>53.000000</td>\n",
       "    </tr>\n",
       "    <tr>\n",
       "      <th>75%</th>\n",
       "      <td>91.000000</td>\n",
       "    </tr>\n",
       "    <tr>\n",
       "      <th>max</th>\n",
       "      <td>268.000000</td>\n",
       "    </tr>\n",
       "  </tbody>\n",
       "</table>\n",
       "</div>"
      ],
      "text/plain": [
       "                0\n",
       "count  597.000000\n",
       "mean    66.855946\n",
       "std     46.858448\n",
       "min      2.000000\n",
       "25%     32.000000\n",
       "50%     53.000000\n",
       "75%     91.000000\n",
       "max    268.000000"
      ]
     },
     "metadata": {},
     "output_type": "display_data"
    },
    {
     "data": {
      "text/html": [
       "<div>\n",
       "<style scoped>\n",
       "    .dataframe tbody tr th:only-of-type {\n",
       "        vertical-align: middle;\n",
       "    }\n",
       "\n",
       "    .dataframe tbody tr th {\n",
       "        vertical-align: top;\n",
       "    }\n",
       "\n",
       "    .dataframe thead th {\n",
       "        text-align: right;\n",
       "    }\n",
       "</style>\n",
       "<table border=\"1\" class=\"dataframe\">\n",
       "  <thead>\n",
       "    <tr style=\"text-align: right;\">\n",
       "      <th></th>\n",
       "      <th>0</th>\n",
       "    </tr>\n",
       "  </thead>\n",
       "  <tbody>\n",
       "    <tr>\n",
       "      <th>count</th>\n",
       "      <td>597.000000</td>\n",
       "    </tr>\n",
       "    <tr>\n",
       "      <th>mean</th>\n",
       "      <td>27.525963</td>\n",
       "    </tr>\n",
       "    <tr>\n",
       "      <th>std</th>\n",
       "      <td>19.475025</td>\n",
       "    </tr>\n",
       "    <tr>\n",
       "      <th>min</th>\n",
       "      <td>1.000000</td>\n",
       "    </tr>\n",
       "    <tr>\n",
       "      <th>25%</th>\n",
       "      <td>14.000000</td>\n",
       "    </tr>\n",
       "    <tr>\n",
       "      <th>50%</th>\n",
       "      <td>22.000000</td>\n",
       "    </tr>\n",
       "    <tr>\n",
       "      <th>75%</th>\n",
       "      <td>37.000000</td>\n",
       "    </tr>\n",
       "    <tr>\n",
       "      <th>max</th>\n",
       "      <td>109.000000</td>\n",
       "    </tr>\n",
       "  </tbody>\n",
       "</table>\n",
       "</div>"
      ],
      "text/plain": [
       "                0\n",
       "count  597.000000\n",
       "mean    27.525963\n",
       "std     19.475025\n",
       "min      1.000000\n",
       "25%     14.000000\n",
       "50%     22.000000\n",
       "75%     37.000000\n",
       "max    109.000000"
      ]
     },
     "metadata": {},
     "output_type": "display_data"
    }
   ],
   "source": [
    "df_describe = pd.DataFrame(x)\n",
    "display(df_describe.describe())\n",
    "df_describe = pd.DataFrame(y)\n",
    "display(df_describe.describe())\n"
   ]
  },
  {
   "cell_type": "code",
   "execution_count": 7,
   "metadata": {},
   "outputs": [
    {
     "data": {
      "text/plain": [
       "(0, 0)"
      ]
     },
     "execution_count": 7,
     "metadata": {},
     "output_type": "execute_result"
    }
   ],
   "source": [
    "np.sum(np.array(x) > 300), np.sum(np.array(y) > 300)\n"
   ]
  },
  {
   "cell_type": "code",
   "execution_count": 8,
   "metadata": {},
   "outputs": [],
   "source": [
    "# t = ET.parse('datasets/change-my-view-modes-master/v1.0/positive/77.xml')\n",
    "# r = t.getroot()\n",
    "# s = ET.tostring(r[2], encoding='utf-8', method='text').decode('utf-8')\n",
    "# ls = s.strip().split('\\n\\n')\n",
    "# ls\n"
   ]
  },
  {
   "cell_type": "markdown",
   "metadata": {},
   "source": [
    "### Load testing data"
   ]
  },
  {
   "cell_type": "code",
   "execution_count": 9,
   "metadata": {},
   "outputs": [],
   "source": [
    "from load_evaluation import find_json_files, get_paragraphs_with_objects, load_evaluation"
   ]
  },
  {
   "cell_type": "code",
   "execution_count": 10,
   "metadata": {},
   "outputs": [],
   "source": [
    "# fl = find_json_files()\n",
    "# data = get_paragraphs_with_objects(fl, object_name='claim')"
   ]
  },
  {
   "cell_type": "code",
   "execution_count": 13,
   "metadata": {},
   "outputs": [
    {
     "data": {
      "text/html": [
       "<div>\n",
       "<style scoped>\n",
       "    .dataframe tbody tr th:only-of-type {\n",
       "        vertical-align: middle;\n",
       "    }\n",
       "\n",
       "    .dataframe tbody tr th {\n",
       "        vertical-align: top;\n",
       "    }\n",
       "\n",
       "    .dataframe thead th {\n",
       "        text-align: right;\n",
       "    }\n",
       "</style>\n",
       "<table border=\"1\" class=\"dataframe\">\n",
       "  <thead>\n",
       "    <tr style=\"text-align: right;\">\n",
       "      <th></th>\n",
       "      <th>text</th>\n",
       "      <th>claim</th>\n",
       "    </tr>\n",
       "  </thead>\n",
       "  <tbody>\n",
       "    <tr>\n",
       "      <th>0</th>\n",
       "      <td>Yes, you would.\\nWait, how dare I answer for y...</td>\n",
       "      <td>Yes, you would.\\nthe research shows people are...</td>\n",
       "    </tr>\n",
       "    <tr>\n",
       "      <th>1</th>\n",
       "      <td>Its a no brainer for the following reasons:\\nI...</td>\n",
       "      <td>Its a no brainer for the following reasons\\nOn...</td>\n",
       "    </tr>\n",
       "    <tr>\n",
       "      <th>2</th>\n",
       "      <td>You already do. It is called \"taxi\".\\nYes, tax...</td>\n",
       "      <td>You already do. It is called \"taxi\"</td>\n",
       "    </tr>\n",
       "    <tr>\n",
       "      <th>3</th>\n",
       "      <td>I already have. However, I did have the luxury...</td>\n",
       "      <td>I already have\\nI did have the luxury of build...</td>\n",
       "    </tr>\n",
       "    <tr>\n",
       "      <th>4</th>\n",
       "      <td>I would. However, I admit that, since I don't ...</td>\n",
       "      <td>I would. However, I admit that, since I don't ...</td>\n",
       "    </tr>\n",
       "  </tbody>\n",
       "</table>\n",
       "</div>"
      ],
      "text/plain": [
       "                                                text  \\\n",
       "0  Yes, you would.\\nWait, how dare I answer for y...   \n",
       "1  Its a no brainer for the following reasons:\\nI...   \n",
       "2  You already do. It is called \"taxi\".\\nYes, tax...   \n",
       "3  I already have. However, I did have the luxury...   \n",
       "4  I would. However, I admit that, since I don't ...   \n",
       "\n",
       "                                               claim  \n",
       "0  Yes, you would.\\nthe research shows people are...  \n",
       "1  Its a no brainer for the following reasons\\nOn...  \n",
       "2                You already do. It is called \"taxi\"  \n",
       "3  I already have\\nI did have the luxury of build...  \n",
       "4  I would. However, I admit that, since I don't ...  "
      ]
     },
     "metadata": {},
     "output_type": "display_data"
    },
    {
     "data": {
      "text/html": [
       "<div>\n",
       "<style scoped>\n",
       "    .dataframe tbody tr th:only-of-type {\n",
       "        vertical-align: middle;\n",
       "    }\n",
       "\n",
       "    .dataframe tbody tr th {\n",
       "        vertical-align: top;\n",
       "    }\n",
       "\n",
       "    .dataframe thead th {\n",
       "        text-align: right;\n",
       "    }\n",
       "</style>\n",
       "<table border=\"1\" class=\"dataframe\">\n",
       "  <thead>\n",
       "    <tr style=\"text-align: right;\">\n",
       "      <th></th>\n",
       "      <th>text</th>\n",
       "      <th>claim</th>\n",
       "    </tr>\n",
       "  </thead>\n",
       "  <tbody>\n",
       "    <tr>\n",
       "      <th>0</th>\n",
       "      <td>Bitcoin is pretty useless. But so is gold.\\nGo...</td>\n",
       "      <td>Bitcoin is pretty useless. But so is gold.\\nFo...</td>\n",
       "    </tr>\n",
       "    <tr>\n",
       "      <th>1</th>\n",
       "      <td>It’s not too late to invest. Though cryptocurr...</td>\n",
       "      <td>It’s not too late to invest</td>\n",
       "    </tr>\n",
       "    <tr>\n",
       "      <th>2</th>\n",
       "      <td>Ahh Bitcoin. Buying one in 2010 at 0.08$ a coi...</td>\n",
       "      <td>Yes, Bitcoin has its pros</td>\n",
       "    </tr>\n",
       "    <tr>\n",
       "      <th>3</th>\n",
       "      <td>Yes, Bitcoin has its pros. It’s unregulated. D...</td>\n",
       "      <td>If you must invest in it, remember the golden ...</td>\n",
       "    </tr>\n",
       "    <tr>\n",
       "      <th>4</th>\n",
       "      <td>Venture capitalists have poured tons of money ...</td>\n",
       "      <td>Venture capitalists have poured tons of money ...</td>\n",
       "    </tr>\n",
       "  </tbody>\n",
       "</table>\n",
       "</div>"
      ],
      "text/plain": [
       "                                                text  \\\n",
       "0  Bitcoin is pretty useless. But so is gold.\\nGo...   \n",
       "1  It’s not too late to invest. Though cryptocurr...   \n",
       "2  Ahh Bitcoin. Buying one in 2010 at 0.08$ a coi...   \n",
       "3  Yes, Bitcoin has its pros. It’s unregulated. D...   \n",
       "4  Venture capitalists have poured tons of money ...   \n",
       "\n",
       "                                               claim  \n",
       "0  Bitcoin is pretty useless. But so is gold.\\nFo...  \n",
       "1                        It’s not too late to invest  \n",
       "2                          Yes, Bitcoin has its pros  \n",
       "3  If you must invest in it, remember the golden ...  \n",
       "4  Venture capitalists have poured tons of money ...  "
      ]
     },
     "metadata": {},
     "output_type": "display_data"
    },
    {
     "data": {
      "text/html": [
       "<div>\n",
       "<style scoped>\n",
       "    .dataframe tbody tr th:only-of-type {\n",
       "        vertical-align: middle;\n",
       "    }\n",
       "\n",
       "    .dataframe tbody tr th {\n",
       "        vertical-align: top;\n",
       "    }\n",
       "\n",
       "    .dataframe thead th {\n",
       "        text-align: right;\n",
       "    }\n",
       "</style>\n",
       "<table border=\"1\" class=\"dataframe\">\n",
       "  <thead>\n",
       "    <tr style=\"text-align: right;\">\n",
       "      <th></th>\n",
       "      <th>text</th>\n",
       "      <th>premise</th>\n",
       "    </tr>\n",
       "  </thead>\n",
       "  <tbody>\n",
       "    <tr>\n",
       "      <th>0</th>\n",
       "      <td>Yes, you would.\\nWait, how dare I answer for y...</td>\n",
       "      <td>I have been in them many times, from several d...</td>\n",
       "    </tr>\n",
       "    <tr>\n",
       "      <th>1</th>\n",
       "      <td>Its a no brainer for the following reasons:\\nI...</td>\n",
       "      <td>I can make use of the time I spend driving.\\nI...</td>\n",
       "    </tr>\n",
       "    <tr>\n",
       "      <th>2</th>\n",
       "      <td>You already do. It is called \"taxi\".\\nYes, tax...</td>\n",
       "      <td>Yes, taxi self-driving uses a human component\\...</td>\n",
       "    </tr>\n",
       "    <tr>\n",
       "      <th>3</th>\n",
       "      <td>I would. However, I admit that, since I don't ...</td>\n",
       "      <td>if you had the choice of driving your mother t...</td>\n",
       "    </tr>\n",
       "    <tr>\n",
       "      <th>4</th>\n",
       "      <td>Absolutely.\\nI've been following along with th...</td>\n",
       "      <td>I've been following along with the Google Cars...</td>\n",
       "    </tr>\n",
       "  </tbody>\n",
       "</table>\n",
       "</div>"
      ],
      "text/plain": [
       "                                                text  \\\n",
       "0  Yes, you would.\\nWait, how dare I answer for y...   \n",
       "1  Its a no brainer for the following reasons:\\nI...   \n",
       "2  You already do. It is called \"taxi\".\\nYes, tax...   \n",
       "3  I would. However, I admit that, since I don't ...   \n",
       "4  Absolutely.\\nI've been following along with th...   \n",
       "\n",
       "                                             premise  \n",
       "0  I have been in them many times, from several d...  \n",
       "1  I can make use of the time I spend driving.\\nI...  \n",
       "2  Yes, taxi self-driving uses a human component\\...  \n",
       "3  if you had the choice of driving your mother t...  \n",
       "4  I've been following along with the Google Cars...  "
      ]
     },
     "metadata": {},
     "output_type": "display_data"
    },
    {
     "data": {
      "text/html": [
       "<div>\n",
       "<style scoped>\n",
       "    .dataframe tbody tr th:only-of-type {\n",
       "        vertical-align: middle;\n",
       "    }\n",
       "\n",
       "    .dataframe tbody tr th {\n",
       "        vertical-align: top;\n",
       "    }\n",
       "\n",
       "    .dataframe thead th {\n",
       "        text-align: right;\n",
       "    }\n",
       "</style>\n",
       "<table border=\"1\" class=\"dataframe\">\n",
       "  <thead>\n",
       "    <tr style=\"text-align: right;\">\n",
       "      <th></th>\n",
       "      <th>text</th>\n",
       "      <th>premise</th>\n",
       "    </tr>\n",
       "  </thead>\n",
       "  <tbody>\n",
       "    <tr>\n",
       "      <th>0</th>\n",
       "      <td>Bitcoin is pretty useless. But so is gold.\\nGo...</td>\n",
       "      <td>However, the world is changing fast - one coul...</td>\n",
       "    </tr>\n",
       "    <tr>\n",
       "      <th>1</th>\n",
       "      <td>Ahh Bitcoin. Buying one in 2010 at 0.08$ a coi...</td>\n",
       "      <td>It was secure, unregulated and cryptocurrency ...</td>\n",
       "    </tr>\n",
       "    <tr>\n",
       "      <th>2</th>\n",
       "      <td>Its exactly the same with Bitcoin. The price o...</td>\n",
       "      <td>It was secure, unregulated and cryptocurrency ...</td>\n",
       "    </tr>\n",
       "    <tr>\n",
       "      <th>3</th>\n",
       "      <td>Venture capitalists have poured tons of money ...</td>\n",
       "      <td>As more products are build and used in the bit...</td>\n",
       "    </tr>\n",
       "    <tr>\n",
       "      <th>4</th>\n",
       "      <td>It is unwise not to invest in Bitcoin.\\nI am n...</td>\n",
       "      <td>One of the proof cryptocurrencies are not read...</td>\n",
       "    </tr>\n",
       "  </tbody>\n",
       "</table>\n",
       "</div>"
      ],
      "text/plain": [
       "                                                text  \\\n",
       "0  Bitcoin is pretty useless. But so is gold.\\nGo...   \n",
       "1  Ahh Bitcoin. Buying one in 2010 at 0.08$ a coi...   \n",
       "2  Its exactly the same with Bitcoin. The price o...   \n",
       "3  Venture capitalists have poured tons of money ...   \n",
       "4  It is unwise not to invest in Bitcoin.\\nI am n...   \n",
       "\n",
       "                                             premise  \n",
       "0  However, the world is changing fast - one coul...  \n",
       "1  It was secure, unregulated and cryptocurrency ...  \n",
       "2  It was secure, unregulated and cryptocurrency ...  \n",
       "3  As more products are build and used in the bit...  \n",
       "4  One of the proof cryptocurrencies are not read...  "
      ]
     },
     "metadata": {},
     "output_type": "display_data"
    }
   ],
   "source": [
    "for name in ['claim', 'premise']:\n",
    "    for task in ['auto-driving', 'bitcoin-invest']:\n",
    "        evaluation_data = load_evaluation(base_dir=os.path.join('datasets', 'human_label_v2', task), object_name=name)\n",
    "        df = pd.DataFrame(evaluation_data, columns=['text', name])\n",
    "        display(df.head())\n",
    "        df.to_csv(os.path.join('data', name+'s', f'evaluation-{task}.csv'), index=False)"
   ]
  },
  {
   "cell_type": "markdown",
   "metadata": {},
   "source": [
    "## Build data set"
   ]
  },
  {
   "cell_type": "code",
   "execution_count": null,
   "metadata": {},
   "outputs": [],
   "source": [
    "from sklearn.model_selection import train_test_split\n",
    "import os\n",
    "import pandas as pd\n",
    "import numpy as np"
   ]
  },
  {
   "cell_type": "code",
   "execution_count": null,
   "metadata": {},
   "outputs": [],
   "source": [
    "if not os.path.exists('data/claims'):\n",
    "    os.mkdir('data/claims')\n",
    "data = load_data(base_dir='datasets/change-my-view-modes-master/v1.0', target='claim')\n",
    "print(f'Load {len(data)} claims')\n",
    "\n",
    "df = pd.DataFrame(data, columns=['text', 'claim'])\n",
    "display(df.head())\n",
    "\n",
    "train, test = train_test_split(df, test_size=0.3, random_state=43)\n",
    "\n",
    "train.to_csv('data/claims/train.csv', index=False)\n",
    "test.to_csv('data/claims/test.csv', index=False)"
   ]
  },
  {
   "cell_type": "code",
   "execution_count": null,
   "metadata": {},
   "outputs": [],
   "source": [
    "if not os.path.exists('data/premises'):\n",
    "    os.mkdir('data/premises')\n",
    "data = load_data(base_dir='datasets/change-my-view-modes-master/v1.0', target='premise')\n",
    "print(f'Load {len(data)} premises')\n",
    "df = pd.DataFrame(data=data, columns=['text', 'premise'])\n",
    "display(df.head())\n",
    "train, test = train_test_split(df, test_size=0.3, random_state=43)\n",
    "train.to_csv('data/premises/train.csv', index=False)\n",
    "test.to_csv('data/premises/test.csv', index=False)\n"
   ]
  },
  {
   "cell_type": "code",
   "execution_count": null,
   "metadata": {},
   "outputs": [],
   "source": []
  },
  {
   "cell_type": "code",
   "execution_count": null,
   "metadata": {},
   "outputs": [],
   "source": []
  }
 ],
 "metadata": {
  "kernelspec": {
   "display_name": "Python 3.9.5 ('transformers')",
   "language": "python",
   "name": "python3"
  },
  "language_info": {
   "codemirror_mode": {
    "name": "ipython",
    "version": 3
   },
   "file_extension": ".py",
   "mimetype": "text/x-python",
   "name": "python",
   "nbconvert_exporter": "python",
   "pygments_lexer": "ipython3",
   "version": "3.9.5"
  },
  "orig_nbformat": 4,
  "vscode": {
   "interpreter": {
    "hash": "8220953b88f764fcdbd0075b4138a91f664c10d8705b38466fc99d87a409cf1b"
   }
  }
 },
 "nbformat": 4,
 "nbformat_minor": 2
}
